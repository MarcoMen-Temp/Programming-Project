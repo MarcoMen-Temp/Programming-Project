{
 "cells": [
  {
   "cell_type": "markdown",
   "metadata": {},
   "source": [
    "## Project 2018 - \"Programming For Data Analysis\"\n",
    "\n",
    "### A Notebook by: Marco Men\n",
    "\n",
    "### Date Of Last Commit: 14th December 2018"
   ]
  },
  {
   "cell_type": "markdown",
   "metadata": {},
   "source": [
    "## Introduction\n",
    "\n",
    "In this notebook I will be choosing a  real-world phenomenon that can be measured and for which I can collect at least 100 data points across at least four different variables.\n",
    "I will investigate the types of variables involved(their distributions and relationships with each other)\n",
    "I will simulate/synthesise the dataset as closely matching their properties as possible.\n",
    "I will also detail my research and implement the simulation in this Jupyter notebook\n",
    "\n",
    "https://realpython.com/python-random/\n",
    "\n",
    "I will use 'tips' dataset as a base for my simulation"
   ]
  }
 ],
 "metadata": {
  "kernelspec": {
   "display_name": "Python 3",
   "language": "python",
   "name": "python3"
  },
  "language_info": {
   "codemirror_mode": {
    "name": "ipython",
    "version": 3
   },
   "file_extension": ".py",
   "mimetype": "text/x-python",
   "name": "python",
   "nbconvert_exporter": "python",
   "pygments_lexer": "ipython3",
   "version": "3.6.5"
  }
 },
 "nbformat": 4,
 "nbformat_minor": 2
}
